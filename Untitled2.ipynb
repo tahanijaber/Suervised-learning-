{
  "nbformat": 4,
  "nbformat_minor": 0,
  "metadata": {
    "colab": {
      "name": "Untitled2.ipynb",
      "provenance": []
    },
    "kernelspec": {
      "name": "python3",
      "display_name": "Python 3"
    },
    "language_info": {
      "name": "python"
    }
  },
  "cells": [
    {
      "cell_type": "markdown",
      "source": [
        "Linear Regression Model "
      ],
      "metadata": {
        "id": "MZ8ourHUzJz9"
      }
    },
    {
      "cell_type": "code",
      "source": [
        ""
      ],
      "metadata": {
        "id": "UgaGA7F9zJcp"
      },
      "execution_count": null,
      "outputs": []
    },
    {
      "cell_type": "code",
      "execution_count": 2,
      "metadata": {
        "colab": {
          "base_uri": "https://localhost:8080/",
          "height": 733
        },
        "id": "WBRUPpT_B2qf",
        "outputId": "fd257b20-bcdb-4d76-aea6-2241757cb510"
      },
      "outputs": [
        {
          "output_type": "stream",
          "name": "stdout",
          "text": [
            "Input Values\n",
            "[[ 0.07786339]\n",
            " [-0.03961813]\n",
            " [ 0.01103904]\n",
            " [-0.04069594]\n",
            " [-0.03422907]\n",
            " [ 0.00564998]\n",
            " [ 0.08864151]\n",
            " [-0.03315126]\n",
            " [-0.05686312]\n",
            " [-0.03099563]\n",
            " [ 0.05522933]\n",
            " [-0.06009656]\n",
            " [ 0.00133873]\n",
            " [-0.02345095]\n",
            " [-0.07410811]\n",
            " [ 0.01966154]\n",
            " [-0.01590626]\n",
            " [-0.01590626]\n",
            " [ 0.03906215]\n",
            " [-0.0730303 ]]\n",
            "Predicted Output Values\n",
            "[225.9732401  115.74763374 163.27610621 114.73638965 120.80385422\n",
            " 158.21988574 236.08568105 121.81509832  99.56772822 123.83758651\n",
            " 204.73711411  96.53399594 154.17490936 130.91629517  83.3878227\n",
            " 171.36605897 137.99500384 137.99500384 189.56845268  84.3990668 ]\n"
          ]
        },
        {
          "output_type": "display_data",
          "data": {
            "text/plain": [
              "<Figure size 432x288 with 1 Axes>"
            ],
            "image/png": "[encoded data removed]"
          },
          "metadata": {
            "needs_background": "light"
          }
        }
      ],
      "source": [
        "from sklearn import datasets, linear_model\n",
        "import matplotlib.pyplot as plt\n",
        "import numpy as np\n",
        "\n",
        "# Load the diabetes dataset\n",
        "diabetes = datasets.load_diabetes()\n",
        "\n",
        "\n",
        "# Use only one feature for training\n",
        "diabetes_X = diabetes.data[:, np.newaxis, 2]\n",
        "\n",
        "# Split the data into training/testing sets\n",
        "diabetes_X_train = diabetes_X[:-20]\n",
        "diabetes_X_test = diabetes_X[-20:]\n",
        "\n",
        "# Split the targets into training/testing sets\n",
        "diabetes_y_train = diabetes.target[:-20]\n",
        "diabetes_y_test = diabetes.target[-20:]\n",
        "\n",
        "# Create linear regression object\n",
        "regr = linear_model.LinearRegression()\n",
        "\n",
        "# Train the model using the training sets\n",
        "regr.fit(diabetes_X_train, diabetes_y_train)\n",
        "\n",
        "# Input data\n",
        "print('Input Values')\n",
        "print(diabetes_X_test)\n",
        "\n",
        "# Make predictions using the testing set\n",
        "diabetes_y_pred = regr.predict(diabetes_X_test)\n",
        "\n",
        "# Predicted Data\n",
        "print(\"Predicted Output Values\")\n",
        "print(diabetes_y_pred)\n",
        "\n",
        "# Plot outputs\n",
        "plt.scatter(diabetes_X_test, diabetes_y_test, color='black')\n",
        "plt.plot(diabetes_X_test, diabetes_y_pred, color='red', linewidth=1)\n",
        "\n",
        "plt.show()"
      ]
    },
    {
      "cell_type": "markdown",
      "source": [
        ""
      ],
      "metadata": {
        "id": "uqMAgHBSzGrI"
      }
    },
    {
      "cell_type": "code",
      "source": [
        ""
      ],
      "metadata": {
        "id": "vyJUn1OZzITB"
      },
      "execution_count": null,
      "outputs": []
    },
    {
      "cell_type": "code",
      "source": [
        ""
      ],
      "metadata": {
        "id": "gpLbDTeUCHax"
      },
      "execution_count": null,
      "outputs": []
    },
    {
      "cell_type": "markdown",
      "source": [
        "Loading IRIS dataset\n"
      ],
      "metadata": {
        "id": "sj_6SFLVzo9Z"
      }
    },
    {
      "cell_type": "code",
      "source": [
        "from sklearn import datasets\n",
        "import pandas as pd\n",
        "import matplotlib.pyplot as plt\n",
        "\n",
        "# Loading IRIS dataset from scikit-learn object into iris variable.\n",
        "iris = datasets.load_iris()\n",
        "\n",
        "# Prints the type/type object of iris\n",
        "print(type(iris))\n",
        "# <class 'sklearn.datasets.base.Bunch'>\n",
        "\n",
        "# prints the dictionary keys of iris data\n",
        "print(iris.keys())\n",
        "\n",
        "# prints the type/type object of given attributes\n",
        "print(type(iris.data), type(iris.target))\n",
        "\n",
        "# prints the no of rows and columns in the dataset\n",
        "print(iris.data.shape)\n",
        "\n",
        "# prints the target set of the data\n",
        "print(iris.target_names)\n",
        "\n",
        "# Load iris training dataset\n",
        "X = iris.data\n",
        "\n",
        "# Load iris target set\n",
        "Y = iris.target\n",
        "\n",
        "# Convert datasets' type into dataframe\n",
        "df = pd.DataFrame(X, columns=iris.feature_names)\n",
        "\n",
        "# Print the first five tuples of dataframe.\n",
        "print(df.head())\n",
        "from sklearn import datasets\n",
        "import pandas as pd\n",
        "import matplotlib.pyplot as plt\n",
        "\n",
        "# Loading IRIS dataset from scikit-learn object into iris variable.\n",
        "iris = datasets.load_iris()\n",
        "\n",
        "# Prints the type/type object of iris\n",
        "print(type(iris))\n",
        "# <class 'sklearn.datasets.base.Bunch'>\n",
        "\n",
        "# prints the dictionary keys of iris data\n",
        "print(iris.keys())\n",
        "\n",
        "# prints the type/type object of given attributes\n",
        "print(type(iris.data), type(iris.target))\n",
        "\n",
        "# prints the no of rows and columns in the dataset\n",
        "print(iris.data.shape)\n",
        "\n",
        "# prints the target set of the data\n",
        "print(iris.target_names)\n",
        "\n",
        "# Load iris training dataset\n",
        "X = iris.data\n",
        "\n",
        "# Load iris target set\n",
        "Y = iris.target\n",
        "\n",
        "# Convert datasets' type into dataframe\n",
        "df = pd.DataFrame(X, columns=iris.feature_names)\n",
        "\n",
        "# Print the first five tuples of dataframe.\n",
        "print(df.head())"
      ],
      "metadata": {
        "colab": {
          "base_uri": "https://localhost:8080/"
        },
        "id": "XvesTw9jCnGx",
        "outputId": "8698f762-73d3-4a38-fb80-4b9cb5a2c495"
      },
      "execution_count": 6,
      "outputs": [
        {
          "output_type": "stream",
          "name": "stdout",
          "text": [
            "<class 'sklearn.utils.Bunch'>\n",
            "dict_keys(['data', 'target', 'frame', 'target_names', 'DESCR', 'feature_names', 'filename', 'data_module'])\n",
            "<class 'numpy.ndarray'> <class 'numpy.ndarray'>\n",
            "(150, 4)\n",
            "['setosa' 'versicolor' 'virginica']\n",
            "   sepal length (cm)  sepal width (cm)  petal length (cm)  petal width (cm)\n",
            "0                5.1               3.5                1.4               0.2\n",
            "1                4.9               3.0                1.4               0.2\n",
            "2                4.7               3.2                1.3               0.2\n",
            "3                4.6               3.1                1.5               0.2\n",
            "4                5.0               3.6                1.4               0.2\n",
            "<class 'sklearn.utils.Bunch'>\n",
            "dict_keys(['data', 'target', 'frame', 'target_names', 'DESCR', 'feature_names', 'filename', 'data_module'])\n",
            "<class 'numpy.ndarray'> <class 'numpy.ndarray'>\n",
            "(150, 4)\n",
            "['setosa' 'versicolor' 'virginica']\n",
            "   sepal length (cm)  sepal width (cm)  petal length (cm)  petal width (cm)\n",
            "0                5.1               3.5                1.4               0.2\n",
            "1                4.9               3.0                1.4               0.2\n",
            "2                4.7               3.2                1.3               0.2\n",
            "3                4.6               3.1                1.5               0.2\n",
            "4                5.0               3.6                1.4               0.2\n"
          ]
        }
      ]
    },
    {
      "cell_type": "markdown",
      "source": [
        "K-NN Model "
      ],
      "metadata": {
        "id": "jZONVVgL0Nkr"
      }
    },
    {
      "cell_type": "code",
      "source": [
        "from sklearn import datasets\n",
        "from sklearn.neighbors import KNeighborsClassifier\n",
        "\n",
        "# Load iris dataset from sklearn\n",
        "iris = datasets.load_iris()\n",
        "\n",
        "# Declare an of the KNN classifier class with the value with neighbors.\n",
        "knn = KNeighborsClassifier(n_neighbors=6)\n",
        "\n",
        "# Fit the model with training data and target values\n",
        "knn.fit(iris['data'], iris['target'])\n",
        "\n",
        "# Provide data whose class labels are to be predicted\n",
        "X = [\n",
        "    [5.9, 1.0, 5.1, 1.8],\n",
        "    [3.4, 2.0, 1.1, 4.8],\n",
        "]\n",
        "\n",
        "# Prints the data provided\n",
        "print(X)\n",
        "\n",
        "# Store predicted class labels of X\n",
        "prediction = knn.predict(X)\n",
        "\n",
        "# Prints the predicted class labels of X\n",
        "print(prediction)"
      ],
      "metadata": {
        "colab": {
          "base_uri": "https://localhost:8080/"
        },
        "id": "3H9Eh81gDNGa",
        "outputId": "1626bdd5-c3af-414f-a4f9-29bb24d39b5f"
      },
      "execution_count": 1,
      "outputs": [
        {
          "output_type": "stream",
          "name": "stdout",
          "text": [
            "[[5.9, 1.0, 5.1, 1.8], [3.4, 2.0, 1.1, 4.8]]\n",
            "[1 1]\n"
          ]
        }
      ]
    },
    {
      "cell_type": "code",
      "source": [
        ""
      ],
      "metadata": {
        "id": "f7J7XxFKwwqs"
      },
      "execution_count": null,
      "outputs": []
    }
  ]
}